{
 "cells": [
  {
   "cell_type": "markdown",
   "metadata": {},
   "source": [
    "Formulate the problem as an MDP. Clearly describe the state space, action space, reward and transition probabilities"
   ]
  },
  {
   "cell_type": "markdown",
   "metadata": {},
   "source": [
    "\n",
    "1. State Space $\\mathcal{S}$\n",
    "\n",
    "The state space $\\mathcal{S}$  in the code is defined as all possible combinations of positions of the player and the minotaur within the maze, along with two terminal states:\n",
    "\n",
    "\n",
    "$\\mathcal{S} = \\{ ((x_1, y_1), (x_2, y_2)) \\mid 0 \\leq x_i \\le H, 0 \\leq y_i \\le W, \\text{ maze}[x_1, y_1] \\neq 1 \\} \\cup \\{ \\text{Eaten}, \\text{Win} \\}$\n",
    "\n",
    "\n",
    "- (x_1, y_1)  represents the player’s coordinates.\n",
    "- (x_2, y_2)  represents the minotaur’s coordinates.\n",
    "- W  and  L  are the width and length of the maze.\n",
    "- ‘Eaten’ and ‘Win’ represent terminal states when the player is caught by the minotaur or successfully exits, respectively\n",
    "- Because the minotaur can be within a wall, only the player can not, the player's x and y coordinates can not be those where the maze value equals 1. \n"
   ]
  },
  {
   "cell_type": "markdown",
   "metadata": {},
   "source": [
    "2. Action Space  $\\mathcal{A}$ \n",
    "\n",
    "The action space  $\\mathcal{A}$  was given in the assignment and is formalized as followed: \n",
    "\n",
    "\n",
    "$\\mathcal{A} = \\{ \\text{stay, move left, move right, move up, move down} \\}$\n"
   ]
  },
  {
   "cell_type": "markdown",
   "metadata": {},
   "source": [
    "3. Transition Probabilities  $\\mathcal{P}$\n",
    "\n",
    "Let $P(s{\\prime} \\mid s, a)$ be the probability of transitioning from state $s$ to $s{\\prime}$ after taking action $a$. \n",
    "The player has deterministic movement and the minotaur's moves to any valid adjacent cell, and its probability of transitioning to a new state depends on the number of possible moves. Therefore, mathematically the transition probabilities for non-terminal states is:\n",
    "\n",
    "$P(((x{\\prime}_1, y{\\prime}_1), (x{\\prime}_2, y{\\prime}_2)) \\mid ((x_1, y_1), (x_2, y_2)), a) = \\frac{1}{N}$\n",
    "\n",
    "where $N$ is the number of possible cells the minotaur can move to, and:\n",
    "- $x{\\prime}_1, y{\\prime}_1$ are the new coordinates of the player after applying action $a$.\n",
    "- $x{\\prime}_2, y{\\prime}_2$  are the new coordinates of the minotaur after moving randomly.\n",
    "\n",
    "For terminal states:\n",
    "\n",
    "$P(\\text{Eaten} \\mid ((x_1, y_1), (x_2, y_2)), a) = 1 \\quad \\text{if } (x{\\prime}_1, y{\\prime}_1) = (x{\\prime}_2, y{\\prime}_2)$\n",
    "\n",
    "$P(\\text{Win} \\mid ((x_1, y_1), (x_2, y_2)), a) = 1 \\quad \\text{if } (\\text{maze}[x{\\prime}_1, y{\\prime}_1] = 2)$\n",
    "\n",
    "Once these states are reached, they  have a self-loop probability of 1, meaning:\n",
    "\n",
    "$P(\\text{Win} \\mid \\text{Win}, \\cdot) = 1, \\quad P(\\text{Eaten} \\mid \\text{Eaten}, \\cdot) = 1$\n",
    "\n",
    "The transition probabilities assume that $\\text{ maze}[x{\\prime}_1, y{\\prime}_1] \\neq 1$ because these are not defined as possible states in $\\mathcal{S}$. Furthermore, the player will not move to non-adjacent cells as these are not reachable through any actions defined within $\\mathcal{A}$. \n"
   ]
  },
  {
   "cell_type": "markdown",
   "metadata": {},
   "source": [
    "4. Rewards $\\mathcal{R}$\n",
    "\n",
    "We want to reward the player to find the exit, therefore any action that leads to reaching this goal is prositively rewarded. Any other action does not yield any reward. However, for any action that leads to surpassing the limit of the maze a high negative reward is assigned such that this state never happens. \n",
    "\n",
    "Terminal rewards:\n",
    "- $r(\\text{Eaten}, a) = \\text{MINOTAUR\\_REWARD} = 0$\n",
    "- $r(\\text{Win}, a) = \\text{GOAL\\_REWARD} = 1$  \n",
    "\n",
    "Non-terminal rewards:\n",
    "- If the player attempts an invalid move (hits a wall):  \n",
    "$r(s, a) = \\text{IMPOSSIBLE\\_REWARD} = -100$\n",
    "\n",
    "- For valid moves that do not result in winning or being eaten:  \n",
    "$r(s, a) = \\text{STEP\\_REWARD} = 0$"
   ]
  },
  {
   "cell_type": "markdown",
   "metadata": {},
   "source": [
    "The goal is to maximize the probability of reaching the exit before getting caught by the minotaur:\n",
    "\n",
    "$\\max \\mathbb{E} \\left[ \\sum_{t=0}^{T-1} r(s_t, a_t) + r_T(s_T) \\right]$\n",
    "\n",
    "where  $T$  is the finite time horizon, and $r_T(s_T)$ denotes the terminal reward.\n"
   ]
  },
  {
   "cell_type": "markdown",
   "metadata": {},
   "source": [
    "## Dynamic Programming \n",
    "a) Solve the problem: find a policy that maximizes the probability of leaving the maze alive (in the shortest time possible) for T = 20. Illustrate this policy.\n",
    "\n",
    "To find the optimal path, it is enough to set the time horizon T=15. The player needs at least 15 steps to attain the exit $B$, if the starting point is at (0,0). If ythe time horizon less than 15, no path to the exit is found. For all $T \\geq 15$ the path stays the same for the same movements of the minotaur. \n",
    "\n",
    "To illustrate the policy please run: "
   ]
  },
  {
   "cell_type": "code",
   "execution_count": 2,
   "metadata": {},
   "outputs": [
    {
     "ename": "KeyError",
     "evalue": "'W'",
     "output_type": "error",
     "traceback": [
      "\u001b[0;31m---------------------------------------------------------------------------\u001b[0m",
      "\u001b[0;31mKeyError\u001b[0m                                  Traceback (most recent call last)",
      "Cell \u001b[0;32mIn[2], line 22\u001b[0m\n\u001b[1;32m     20\u001b[0m start  \u001b[38;5;241m=\u001b[39m ((\u001b[38;5;241m0\u001b[39m,\u001b[38;5;241m0\u001b[39m), (\u001b[38;5;241m6\u001b[39m,\u001b[38;5;241m5\u001b[39m))\n\u001b[1;32m     21\u001b[0m path \u001b[38;5;241m=\u001b[39m env\u001b[38;5;241m.\u001b[39msimulate(start, policy, method)[\u001b[38;5;241m0\u001b[39m]\n\u001b[0;32m---> 22\u001b[0m \u001b[43mmz\u001b[49m\u001b[38;5;241;43m.\u001b[39;49m\u001b[43manimate_solution\u001b[49m\u001b[43m(\u001b[49m\u001b[43mmaze\u001b[49m\u001b[43m,\u001b[49m\u001b[43m \u001b[49m\u001b[43mpath\u001b[49m\u001b[43m)\u001b[49m\n",
      "File \u001b[0;32m~/Desktop/Reinforcement Learning/lab1/maze.py:525\u001b[0m, in \u001b[0;36manimate_solution\u001b[0;34m(maze, path)\u001b[0m\n\u001b[1;32m    523\u001b[0m \u001b[38;5;28;01mfor\u001b[39;00m i \u001b[38;5;129;01min\u001b[39;00m \u001b[38;5;28mrange\u001b[39m(\u001b[38;5;241m0\u001b[39m, \u001b[38;5;28mlen\u001b[39m(path)):\n\u001b[1;32m    524\u001b[0m     \u001b[38;5;28;01mif\u001b[39;00m i \u001b[38;5;241m<\u001b[39m \u001b[38;5;28mlen\u001b[39m(path): \n\u001b[0;32m--> 525\u001b[0m         \u001b[43mgrid\u001b[49m\u001b[38;5;241;43m.\u001b[39;49m\u001b[43mget_celld\u001b[49m\u001b[43m(\u001b[49m\u001b[43m)\u001b[49m\u001b[43m[\u001b[49m\u001b[43m(\u001b[49m\u001b[43mpath\u001b[49m\u001b[43m[\u001b[49m\u001b[43mi\u001b[49m\u001b[43m]\u001b[49m\u001b[43m[\u001b[49m\u001b[38;5;241;43m0\u001b[39;49m\u001b[43m]\u001b[49m\u001b[43m)\u001b[49m\u001b[43m]\u001b[49m\u001b[38;5;241m.\u001b[39mget_text()\u001b[38;5;241m.\u001b[39mset_text(\u001b[38;5;124m'\u001b[39m\u001b[38;5;124mPlayer\u001b[39m\u001b[38;5;124m'\u001b[39m)\n\u001b[1;32m    526\u001b[0m         grid\u001b[38;5;241m.\u001b[39mget_celld()[(path[i][\u001b[38;5;241m1\u001b[39m])]\u001b[38;5;241m.\u001b[39mget_text()\u001b[38;5;241m.\u001b[39mset_text(\u001b[38;5;124m'\u001b[39m\u001b[38;5;124mMinotaur\u001b[39m\u001b[38;5;124m'\u001b[39m)\n\u001b[1;32m    527\u001b[0m     \u001b[38;5;28;01mif\u001b[39;00m path[i\u001b[38;5;241m-\u001b[39m\u001b[38;5;241m1\u001b[39m] \u001b[38;5;241m!=\u001b[39m \u001b[38;5;124m'\u001b[39m\u001b[38;5;124mEaten\u001b[39m\u001b[38;5;124m'\u001b[39m \u001b[38;5;129;01mand\u001b[39;00m path[i\u001b[38;5;241m-\u001b[39m\u001b[38;5;241m1\u001b[39m] \u001b[38;5;241m!=\u001b[39m \u001b[38;5;124m'\u001b[39m\u001b[38;5;124mWin\u001b[39m\u001b[38;5;124m'\u001b[39m:\n",
      "\u001b[0;31mKeyError\u001b[0m: 'W'"
     ]
    },
    {
     "data": {
      "image/png": "[encoded data removed]",
      "text/plain": [
       "<Figure size 800x700 with 1 Axes>"
      ]
     },
     "metadata": {},
     "output_type": "display_data"
    }
   ],
   "source": [
    "import maze as mz\n",
    "import numpy as np\n",
    "# Description of the maze as a numpy array\n",
    "maze = np.array([\n",
    "    [0, 0, 1, 0, 0, 0, 0, 0],\n",
    "    [0, 0, 1, 0, 0, 1, 0, 0],\n",
    "    [0, 0, 1, 0, 0, 1, 1, 1],\n",
    "    [0, 0, 1, 0, 0, 1, 0, 0],\n",
    "    [0, 0, 0, 0, 0, 0, 0, 0],\n",
    "    [0, 1, 1, 1, 1, 1, 1, 0],\n",
    "    [0, 0, 0, 0, 1, 2, 0, 0]])\n",
    "# With the convention 0 = empty cell, 1 = obstacle, 2 = exit of the Maze\n",
    "env = mz.Maze(maze, False)\n",
    "horizon = 16     # TODO: Finite horizon\n",
    "\n",
    "# Solve the MDP problem with dynamic programming\n",
    "V, policy = mz.dynamic_programming(env, horizon)  \n",
    "# Simulate the shortest path starting from position A\n",
    "method = 'DynProg'\n",
    "start  = ((0,0), (6,5))\n",
    "path = env.simulate(start, policy, method)[0]\n",
    "mz.animate_solution(maze, path)"
   ]
  },
  {
   "cell_type": "markdown",
   "metadata": {},
   "source": [
    "d) For T = 1, . . . , 30 compute a policy that maximizes the probability of exiting the maze alive (in the shortest time possible) and plot the probability. Is there a difference if the minotaur is allowed to stand still? If so, why?\n",
    "\n",
    "The optimal policy that miximizes the probability of exiting the maze alive in the shorteset time possible happens for T=15. For this time horizon the porbability of exiting the maze alive is 100\\%. The below code would print this policy: \n"
   ]
  },
  {
   "cell_type": "code",
   "execution_count": null,
   "metadata": {},
   "outputs": [
    {
     "name": "stdout",
     "output_type": "stream",
     "text": [
      "Minotaur always moves:\n"
     ]
    },
    {
     "ename": "NameError",
     "evalue": "name 'mz' is not defined",
     "output_type": "error",
     "traceback": [
      "\u001b[0;31m---------------------------------------------------------------------------\u001b[0m",
      "\u001b[0;31mNameError\u001b[0m                                 Traceback (most recent call last)",
      "Cell \u001b[0;32mIn[3], line 24\u001b[0m\n\u001b[1;32m     22\u001b[0m T_range \u001b[38;5;241m=\u001b[39m np\u001b[38;5;241m.\u001b[39marray(\u001b[38;5;28mrange\u001b[39m(\u001b[38;5;241m13\u001b[39m, \u001b[38;5;241m31\u001b[39m))\n\u001b[1;32m     23\u001b[0m \u001b[38;5;28mprint\u001b[39m(\u001b[38;5;124m\"\u001b[39m\u001b[38;5;124mMinotaur always moves:\u001b[39m\u001b[38;5;124m\"\u001b[39m)\n\u001b[0;32m---> 24\u001b[0m move_rates, policy_move \u001b[38;5;241m=\u001b[39m \u001b[43mmz\u001b[49m\u001b[38;5;241m.\u001b[39msurvival_rates_dynprog(maze, T_range, minotaur_stay \u001b[38;5;241m=\u001b[39m \u001b[38;5;28;01mFalse\u001b[39;00m)\n\u001b[1;32m     25\u001b[0m \u001b[38;5;28mprint\u001b[39m(\u001b[38;5;124m\"\u001b[39m\u001b[38;5;124mMinotaur can stay: \u001b[39m\u001b[38;5;124m\"\u001b[39m)\n\u001b[1;32m     26\u001b[0m try_rates, policy_stay \u001b[38;5;241m=\u001b[39m mz\u001b[38;5;241m.\u001b[39msurvival_rates_dynprog(maze, T_range, minotaur_stay \u001b[38;5;241m=\u001b[39m \u001b[38;5;28;01mTrue\u001b[39;00m)\n",
      "\u001b[0;31mNameError\u001b[0m: name 'mz' is not defined"
     ]
    }
   ],
   "source": [
    "import numpy as np\n",
    "\n",
    "def print_policy(policy, env, T):\n",
    "    \"\"\"\n",
    "    Prints the optimal policy for each state at each time step.\n",
    "    \n",
    "    :param policy: The optimal policy array (S*T).\n",
    "    :param env: The maze environment (for state interpretation).\n",
    "    :param T: The time horizon for which the policy was computed.\n",
    "    \"\"\"\n",
    "    print(f\"Optimal policy for T={T}:\")\n",
    "    for t in range(T):\n",
    "        print(f\"Time step {t}:\")\n",
    "        for s in range(env.n_states):\n",
    "            action = int(policy[s, t])\n",
    "            if action in env.actions_names:\n",
    "                state_description = env.states[s]\n",
    "                print(f\"  State {s} ({state_description}): {env.actions_names[action]}\")\n",
    "        print(\"\\n\")\n",
    "\n",
    "exit = (6, 5)\n",
    "T_range = np.array(range(13, 31))\n",
    "print(\"Minotaur always moves:\")\n",
    "move_rates, policy_move = mz.survival_rates_dynprog(maze, T_range, minotaur_stay = False)\n",
    "print(\"Minotaur can stay: \")\n",
    "try_rates, policy_stay = mz.survival_rates_dynprog(maze, T_range, minotaur_stay = True)\n",
    "T_to_inspect = 15\n",
    "print_policy(policy_move[T_to_inspect], env, T_to_inspect)"
   ]
  },
  {
   "attachments": {
    "image.png": {
     "image/png": "[encoded data removed]"
    }
   },
   "cell_type": "markdown",
   "metadata": {},
   "source": [
    "# Plot of the probabilities\n",
    "![image.png](attachment:image.png)\n"
   ]
  },
  {
   "cell_type": "code",
   "execution_count": null,
   "metadata": {},
   "outputs": [],
   "source": [
    "import matplotlib as plt\n",
    "\n",
    "# Plot the probabilities\n",
    "plt.figure(figsize=(10, 6))\n",
    "plt.plot(range(1, len(move_rates) + 1), move_rates, label='Minotaur cannot stay still')\n",
    "plt.plot(range(1, len(try_rates) + 1), try_rates, label='Minotaur can stay still')\n",
    "tick_positions = range(len(move_rates))  # Positions from 0 to len(move_rates) - 1\n",
    "tick_labels = range(12, 12 + len(move_rates))  # Labels starting from 15\n",
    "\n",
    "plt.xticks(tick_positions, tick_labels)\n",
    "plt.xlabel('Time Horizon T')\n",
    "plt.ylabel('Probability of Exiting Alive (%)')  # Updated label to indicate percentage\n",
    "plt.title('Probability of Survival vs Time Horizon')\n",
    "plt.legend()\n",
    "plt.grid(True)\n",
    "plt.show()"
   ]
  },
  {
   "cell_type": "markdown",
   "metadata": {},
   "source": [
    "If the minotaur is not allowed to stand still it is much simpler to win for the player. The player can just move to the state the minotaur was at previously and be certain it will not be there in the next move to eat the player. When the minotaur is allowed to move this strategy does not work. "
   ]
  },
  {
   "cell_type": "markdown",
   "metadata": {},
   "source": [
    "# Value Iteration \n",
    "You are now poisoned, and need to leave the maze as soon as possible. Due to the poison, your life is geometrically distributed with mean 30. Modify the problem so as to derive a policy maximizing the probability to exit the maze. Motivate your new problem formulation."
   ]
  },
  {
   "cell_type": "markdown",
   "metadata": {},
   "source": [
    "Now we are no longer dealing with a finite time horizon as previously but an infinite one. Therefore we do not use Dynamic Programming to find the optimal policy but Value Iteration. \n",
    "\n",
    "As stated in the exercise we are assuming that the time is geometrically distributed with mean $\\mu = 30$. The discount factor is set to $\\lambda = 1 - \\frac{1}{\\mu}$. \n",
    "\n",
    "The new problem formulation is derived through finding a stationary policy that minimizes the infinite horizon objective with the discount factor stated above. \n",
    "\n",
    "$$\n",
    "\\mathbb{E} \\left[ \\sum_{t=0}^{\\infty} \\lambda^{t-1} r(s_t^{\\pi},  a_t^{\\pi}) \\right].\n",
    "$$\n",
    "\n",
    "Through the lecture we know the Bellman equation in case of a stationary policy $\\pi$ is: \n",
    "\n",
    "$$\n",
    "\\forall s \\in \\mathcal{S} \\quad V^*(s) = \\max_{\\pi} \\left\\{ r(s, \\pi(s)) + \\gamma \\sum_{s' \\in \\mathcal{S}} \\mathbb{P}(s' \\mid s, \\pi(s)) V^*(s') \\right\\} \\tag{2}\n",
    "$$\n",
    "\n",
    "Furthermore, through the lecture we have the VI algorithm \n",
    "\n",
    "1. **Initialization**. Select a value function $(V_0 \\in \\mathcal{V}), ( n = 0), \\delta \\gg 1$  \n",
    "2. **Value improvement**. While $\\delta > \\frac{\\epsilon (1 - \\lambda)}{\\lambda}$ do\n",
    "   - (a)$( V_{n+1} = \\mathcal{L}(V_n)$, i.e., for all $s \\in \\mathcal{S}$\n",
    "     $$\n",
    "     V_{n+1}(s) = \\sup_{a \\in \\mathcal{A}_s} \\left( r(s, a) + \\lambda \\sum_j p(j \\mid s, a) V_n(j) \\right)\n",
    "     $$\n",
    "   - (b) $\\delta = \\| V_{n+1} - V_n \\|, n \\leftarrow n + 1$\n",
    "\n",
    "3. **Output**. $\\pi = (\\pi_1, \\pi_2, \\ldots)$ with\n",
    "   $$\n",
    "   \\forall s \\in \\mathcal{S}, \\quad \\pi_1(s) \\in \\arg \\max_{a \\in \\mathcal{A}_s} \\left( r(s, a) + \\lambda \\sum_j p(j \\mid s, a) V_n(j) \\right)\n",
    "   $$\n",
    "\n",
    "And we know that VI converges since $\\mathcal{L}$ is a contraction mapping. When it stops, VI returns an $\\epsilon$-optimal policy\n",
    " \n",
    "\n"
   ]
  },
  {
   "cell_type": "markdown",
   "metadata": {},
   "source": [
    "(f) Estimate the probability of getting out alive using this policy by simulating 10 000 games.\n",
    "\n",
    "The probability of getting out alive varies between 56% and 58%. "
   ]
  },
  {
   "cell_type": "code",
   "execution_count": null,
   "metadata": {},
   "outputs": [],
   "source": [
    "# Description of the maze as a numpy array\n",
    "maze = np.array([\n",
    "    [0, 0, 1, 0, 0, 0, 0, 0],\n",
    "    [0, 0, 1, 0, 0, 1, 0, 0],\n",
    "    [0, 0, 1, 0, 0, 1, 1, 1],\n",
    "    [0, 0, 1, 0, 0, 1, 0, 0],\n",
    "    [0, 0, 0, 0, 0, 0, 0, 0],\n",
    "    [0, 1, 1, 1, 1, 1, 1, 0],\n",
    "    [0, 0, 0, 0, 1, 2, 0, 0]])\n",
    "# With the convention 0 = empty cell, 1 = obstacle, 2 = exit of the Maze\n",
    "\n",
    "env = mz.Maze(maze, False) # Create an environment maze\n",
    "method = 'ValIter'\n",
    "start  = ((0,0), (6,5))\n",
    "\n",
    "paths = list()\n",
    "win_score = 0\n",
    "t_list = list()\n",
    "\n",
    "n_iters = 10000\n",
    "\n",
    "# Discount Factor\n",
    "gamma = 1 - (1/30)\n",
    "# Accuracy treshold \n",
    "epsilon = 0.0001\n",
    "V, policy = mz.value_iteration(env, gamma, epsilon)\n",
    "\n",
    "for i in range(n_iters):\n",
    "    path = env.simulate(start, policy, method)\n",
    "    if path[0][-1] == 'Win': \n",
    "        win_score += 1\n",
    "    \n",
    "probability_of_exit = win_score/n_iters\n",
    "probability_of_exit"
   ]
  },
  {
   "cell_type": "markdown",
   "metadata": {},
   "source": [
    "## Theoretical questions: "
   ]
  },
  {
   "cell_type": "markdown",
   "metadata": {},
   "source": [
    "1) What does it mean that a learning method is on-policy or off-policy?\n",
    "- On-policy learning means the method learns the value of the policy it is currently following. It explores and updates based on actions taken according to its current policy. Example: SARSA (State-Action-Reward-State-Action).  \n",
    "- Off-policy learning means the method learns the value of an optimal policy independently of the policy it uses to explore. It can update its value estimates using data from a different policy. Example: Q-learning.\n",
    "\t\n",
    "2) State the convergence conditions for Q-learning and SARSA.  \n",
    "\n",
    "Q-learning:\n",
    "- The learning rate $\\alpha_t$ should decay over time such that $\\sum_{t=1}^{\\infty} \\alpha_t = \\infty$ and $\\sum_{t=1}^{\\infty} \\alpha_t^2 < \\infty$  (e.g., $\\alpha_t = \\frac{1}{t}$).\n",
    "- The agent must visit all state-action pairs infinitely often.   \n",
    "\n",
    "SARSA:\n",
    "- Same learning rate condition as Q-learning ($\\alpha_t$ decays appropriately).\n",
    "- The agent should explore sufficiently (e.g., use an $\\epsilon$-greedy policy to ensure all actions are tried).\n",
    "- $\\epsilon \\rightarrow 0$ as $t \\rightarrow \\inf$ "
   ]
  },
  {
   "cell_type": "markdown",
   "metadata": {},
   "source": [
    "### Maze with keys\n",
    "The introduction of new transition probabilities and keys requires modification of the state space, rewards, and transition probabilities. \n",
    "\n",
    "Because the life of the player is still geometrically distributed, \"poised\", we need to model the MDP as a discounted MDP. The discount factor is set to $\\lambda = 1 - \\frac{1}{\\mu}$ with $\\mu = 50$. \n",
    "\n",
    "We define a new state space $\\mathcal{S_h}$: \n",
    "The state space is similar to the one previously defined with the additional constraint if the player has or has not the key. We define $\\mathcal{S}$ as the state space from the beginning. \n",
    "\n",
    "$\\mathcal{S_h} = \\{((x_1, y_1), (x_2, y_2), k) \\mid ((x_1, y_1), (x_2, y_2)) \\in \\mathcal{S}, \\text{ k}\\in \\{1,0\\}\\} \\cup \\{ \\text{Eaten}, \\text{Win} \\}$\n",
    "\n",
    "where k = 1 indicates the player is in posession of the key and k=0 means he is not. \n",
    "Because all keys are in position C and we assume that once the player has one key they have all keys, we only define k=1 or k=0 (has all or has no key). \n",
    "\n",
    "Next we need to define the new transition probabilities $\\mathcal{P_h}$: \n",
    "\n",
    "With probability 0.35 the minotaur moves towards the player. Defining these actions gives: \n",
    "\n",
    "- Minotaur is in the same row as the player: the minotaur moves along the x-direction towards the player\n",
    "- Minotaur is in the same column as the player: the minotaur moves along the y-direction towards the player. \n",
    "- Minotaur is neither in the same row nor column: the minotaur can move along the x- or y-direction towards the player. \n",
    "\n",
    "With probability 0.65 the minotaur takes any OTHER valid action as defined previously. \n",
    "\n",
    "Furthermore, we need to adapt the transition probability for exiting the game, e.g. winning the game.   \n",
    "If k = 0 $(\\text{maze}[x{\\prime}_1, y{\\prime}_1] = 2)$ does not mean the player wins, therefore it does no longer hold:   \n",
    "$P(\\text{Win} \\mid ((x_1, y_1), (x_2, y_2)), a) = 1 \\quad \\text{if } (\\text{maze}[x{\\prime}_1, y{\\prime}_1] = 2)$\n",
    "\n",
    "We adapt the rewards $\\mathcal{R_h}$ to include a reward for grabing the key by adding \n",
    "  \n",
    "$r(s, a) = \\text{KEY\\_REWARD} = 1$ to $\\mathcal{R}$. \n",
    "\n"
   ]
  },
  {
   "cell_type": "code",
   "execution_count": null,
   "metadata": {},
   "outputs": [],
   "source": []
  }
 ],
 "metadata": {
  "kernelspec": {
   "display_name": ".venv",
   "language": "python",
   "name": "python3"
  },
  "language_info": {
   "codemirror_mode": {
    "name": "ipython",
    "version": 3
   },
   "file_extension": ".py",
   "mimetype": "text/x-python",
   "name": "python",
   "nbconvert_exporter": "python",
   "pygments_lexer": "ipython3",
   "version": "3.13.0"
  }
 },
 "nbformat": 4,
 "nbformat_minor": 2
}
